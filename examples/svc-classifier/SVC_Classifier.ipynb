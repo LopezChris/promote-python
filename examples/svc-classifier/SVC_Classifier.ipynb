{
 "cells": [
  {
   "cell_type": "code",
   "execution_count": 1,
   "metadata": {},
   "outputs": [],
   "source": [
    "# !pip install promote"
   ]
  },
  {
   "cell_type": "code",
   "execution_count": 9,
   "metadata": {
    "collapsed": true
   },
   "outputs": [],
   "source": [
    "import numpy as np\n",
    "import pandas as pd\n",
    "from sklearn.svm import SVC\n",
    "from sklearn.datasets import load_iris\n",
    "\n",
    "iris = load_iris()"
   ]
  },
  {
   "cell_type": "code",
   "execution_count": 10,
   "metadata": {
    "collapsed": true
   },
   "outputs": [],
   "source": [
    "X = pd.DataFrame(iris.data, columns=iris.feature_names)\n",
    "y = pd.DataFrame(iris.target, columns=[\"flower_types\"])"
   ]
  },
  {
   "cell_type": "code",
   "execution_count": 11,
   "metadata": {
    "collapsed": true
   },
   "outputs": [],
   "source": [
    "clf = SVC()"
   ]
  },
  {
   "cell_type": "code",
   "execution_count": 12,
   "metadata": {},
   "outputs": [
    {
     "data": {
      "text/plain": [
       "SVC(C=1.0, cache_size=200, class_weight=None, coef0=0.0,\n",
       "  decision_function_shape='ovr', degree=3, gamma='auto', kernel='rbf',\n",
       "  max_iter=-1, probability=False, random_state=None, shrinking=True,\n",
       "  tol=0.001, verbose=False)"
      ]
     },
     "execution_count": 12,
     "metadata": {},
     "output_type": "execute_result"
    }
   ],
   "source": [
    "clf.fit(X, y[\"flower_types\"])"
   ]
  },
  {
   "cell_type": "code",
   "execution_count": 13,
   "metadata": {
    "collapsed": true
   },
   "outputs": [],
   "source": [
    "import promote\n",
    "\n",
    "def irisClassifier(data):\n",
    "    prediction = clf.predict(pd.DataFrame(data))\n",
    "    species = ['setosa', 'versicolor', 'virginica']\n",
    "    result = [species[i] for i in prediction]\n",
    "    return result"
   ]
  },
  {
   "cell_type": "code",
   "execution_count": 14,
   "metadata": {
    "collapsed": true
   },
   "outputs": [],
   "source": [
    "test = pd.DataFrame(iris.data[:1])"
   ]
  },
  {
   "cell_type": "code",
   "execution_count": 15,
   "metadata": {},
   "outputs": [
    {
     "data": {
      "text/plain": [
       "['setosa']"
      ]
     },
     "execution_count": 15,
     "metadata": {},
     "output_type": "execute_result"
    }
   ],
   "source": [
    "irisClassifier(test)"
   ]
  },
  {
   "cell_type": "code",
   "execution_count": 17,
   "metadata": {
    "collapsed": true
   },
   "outputs": [],
   "source": [
    "# yh = Yhat(\"njewell\", \"1d74e7fb3fdb540e494eb27ad2e39e1d\", \"https://sandbox.c.yhat.com\")\n",
    "USERNAME = 'ross'\n",
    "API_KEY = 'your_api_key'\n",
    "PROMOTE_URL = \"http://54.245.22.250:3001/\"\n",
    "\n",
    "p = promote.Promote(USERNAME, API_KEY, PROMOTE_URL)"
   ]
  },
  {
   "cell_type": "code",
   "execution_count": 18,
   "metadata": {
    "collapsed": true,
    "scrolled": false
   },
   "outputs": [],
   "source": [
    "import os\n",
    "p.deployment_dir = os.getcwd()"
   ]
  },
  {
   "cell_type": "code",
   "execution_count": 19,
   "metadata": {},
   "outputs": [
    {
     "name": "stderr",
     "output_type": "stream",
     "text": [
      "[INFO]: deploying model using file: /Users/coristig/miniconda3/lib/python3.6/site-packages/ipykernel_launcher.py\n",
      "[INFO]: no pickles directory found in /Users/coristig/repos/alteryx/alteryx-promote-python/examples/svc-classifier/objects\n",
      "[INFO]: helpers directory does not exist: /Users/coristig/repos/alteryx/alteryx-promote-python/examples/svc-classifier/helpers\n",
      "[INFO]: Deploying with the following files:\n",
      "[INFO]: compressed bundle size: 0.0B\n",
      "[INFO]: Starting new HTTP connection (1): 54.245.22.250\n",
      "\n",
      "Deployment error: {\"status\":\"ERROR\",\"timestamp\":\"2017-10-20T20:21:51.441Z\",\"message\":\"An error occurred: error building image: failed to build image\"}"
     ]
    },
    {
     "data": {
      "text/plain": [
       "{'message': '{\"status\":\"ERROR\",\"timestamp\":\"2017-10-20T20:21:51.441Z\",\"message\":\"An error occurred: error building image: failed to build image\"}',\n",
       " 'status': 'error'}"
      ]
     },
     "execution_count": 19,
     "metadata": {},
     "output_type": "execute_result"
    }
   ],
   "source": [
    "p.deploy(\"IrisSVC\", irisClassifier, test)"
   ]
  },
  {
   "cell_type": "code",
   "execution_count": 54,
   "metadata": {},
   "outputs": [
    {
     "name": "stderr",
     "output_type": "stream",
     "text": [
      "[INFO]: Starting new HTTP connection (1): 54.245.22.250\n"
     ]
    },
    {
     "name": "stdout",
     "output_type": "stream",
     "text": [
      "<!DOCTYPE html><html lang=\"en\"><head><meta charset=\"utf-8\"><meta name=\"viewport\" content=\"width=device-width,initial-scale=1,shrink-to-fit=no\"><meta name=\"theme-color\" content=\"#000000\"><link rel=\"manifest\" href=\"/manifest.json\"><link rel=\"shortcut icon\" href=\"/favicon.ico\"><title>Alteryx | Promote</title><link href=\"/static/css/main.9e7cbf0a.css\" rel=\"stylesheet\"></head><body><noscript>You need to enable JavaScript to run this app.</noscript><div id=\"root\"></div><script type=\"text/javascript\" src=\"/static/js/main.e3b01ae1.js\"></script></body></html>\n"
     ]
    }
   ],
   "source": [
    "import requests\n",
    "from requests.auth import HTTPBasicAuth\n",
    "\n",
    "data = '''{}'''\n",
    "\n",
    "# Post request body with basic auth\n",
    "r = requests.post('http://54.245.22.250:3001/ross/models/HelloModel', data=data, auth=('colin', 'd4ef02a3-c35c-4db7-90cd-240bb75c73d2'))\n",
    "\n",
    "# Print response\n",
    "print(r.text)"
   ]
  },
  {
   "cell_type": "code",
   "execution_count": 13,
   "metadata": {},
   "outputs": [
    {
     "data": {
      "text/plain": [
       "0    5.1\n",
       "Name: 0, dtype: float64"
      ]
     },
     "execution_count": 13,
     "metadata": {},
     "output_type": "execute_result"
    }
   ],
   "source": [
    "test[0]"
   ]
  },
  {
   "cell_type": "code",
   "execution_count": null,
   "metadata": {
    "collapsed": true
   },
   "outputs": [],
   "source": []
  }
 ],
 "metadata": {
  "kernelspec": {
   "display_name": "Python 3",
   "language": "python",
   "name": "python3"
  },
  "language_info": {
   "codemirror_mode": {
    "name": "ipython",
    "version": 3
   },
   "file_extension": ".py",
   "mimetype": "text/x-python",
   "name": "python",
   "nbconvert_exporter": "python",
   "pygments_lexer": "ipython3",
   "version": "3.6.1"
  }
 },
 "nbformat": 4,
 "nbformat_minor": 2
}
